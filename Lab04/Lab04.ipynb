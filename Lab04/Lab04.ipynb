{
 "cells": [
  {
   "cell_type": "markdown",
   "metadata": {},
   "source": [
    "# Lab 04\n",
    "## Central Limit Theorem (CLT)\n",
    "\n",
    "\n",
    "The theorem says that under rather general circumstances, if you sum *independent* random variables and normalize\n",
    "them accordingly, then at the limit (when you sum lots of them) you’ll get a normal distribution.\n",
    "\n",
    "The classical version of CLT states that:\n",
    "\n",
    "Suppose that $X_i$ are independent, identically distributed random variables with mean $\\mu$ and variance $\\sigma^2$.\n",
    "\n",
    "Then $\\cfrac{\\sum_i^n{X_i} - n\\mu }{\\frac{\\sigma}{\\sqrt{n}}} \\rightarrow N (0, 1).$\n",
    "\n",
    "The meaning of $Y_n \\rightarrow Y$ is as follows: for each interval [a, b],\n",
    "$Pr[a ≤ Y_n ≤ b]  \\rightarrow Pr[a ≤ Y ≤ b].$\n",
    "\n",
    "Note that the type of distribution of $X_i$ is not specified.\n"
   ]
  },
  {
   "cell_type": "markdown",
   "metadata": {},
   "source": [
    "### Exercise 0\n",
    "Let $S_n = \\sum_{i=1}^{n}U_i$ for $n = 1, 2,..., 12$ - the sum of 12 uniform distributions. \n",
    "\n",
    "What is the mean and the variance?\n",
    "\n",
    "Sample from $S_n$ 1000 times and plot the histogram of its normalized sample distribution ($\\frac{\\sum_i^n{X_i} - n\\mu }{\\sigma \\sqrt{n}}$).\n",
    "Plot the pdf for asymptotic Gaussian."
   ]
  },
  {
   "cell_type": "code",
   "execution_count": 1,
   "metadata": {
    "collapsed": true
   },
   "outputs": [],
   "source": [
    "import numpy as np\n",
    "np.random.seed(42)\n",
    "N = 12\n",
    "samples = np.zeros(1000)\n",
    "for i in xrange(1000):\n",
    "    u = np.random.uniform(size=N)\n",
    "    samples[i] = np.sum(u) - (N/2)"
   ]
  },
  {
   "cell_type": "code",
   "execution_count": 2,
   "metadata": {},
   "outputs": [
    {
     "data": {
      "image/png": "[encoded data removed]",
      "text/plain": [
       "<matplotlib.figure.Figure at 0x5e81588>"
      ]
     },
     "metadata": {},
     "output_type": "display_data"
    }
   ],
   "source": [
    "import matplotlib.pyplot as plt\n",
    "from scipy.stats import norm\n",
    "%matplotlib inline\n",
    "# 1\n",
    "x = np.linspace(-3,3)\n",
    "plt.hist(samples, 30, normed=True);\n",
    "dist_asympt = norm(0,1)\n",
    "plt.plot(x, dist_asympt.pdf(x));\n"
   ]
  },
  {
   "cell_type": "markdown",
   "metadata": {},
   "source": [
    "### Exercise 1\n",
    "Without the usage of statistical packages sample from binomial distribution (imitating 5 coin tosses) 10000 times. \n",
    "\n",
    "Plot the histogram of sample distribution (with any convenient packages).\n",
    "\n",
    "Plot the pdf of a Gaussian to which the binomial distribution should converge asymptotically. The parameters for this Gaussian can be estimated using CLT, consider the binomial distribution as a distribution of the sum of independent random variables.\n",
    "\n",
    "Repeat the same procedure for 10 and 100 coin tosses."
   ]
  },
  {
   "cell_type": "code",
   "execution_count": 3,
   "metadata": {},
   "outputs": [
    {
     "data": {
      "text/plain": [
       "array([ 4.,  3.,  4., ...,  2.,  1.,  4.])"
      ]
     },
     "execution_count": 3,
     "metadata": {},
     "output_type": "execute_result"
    }
   ],
   "source": [
    "# 1. sample from binomial distribution (n=100) without using statistical packages.\n",
    "\n",
    "def toss_coins(n_toss,N1):\n",
    "    tosses = np.zeros(n_toss)\n",
    "    for i in xrange(n_toss):\n",
    "        sample = np.random.uniform(size=N1+1)\n",
    "        freq = np.size(sample[sample>=0.5])\n",
    "        tosses[i] = freq\n",
    "    return tosses\n",
    "\n",
    "N1 = 5\n",
    "n_toss = 10000\n",
    "\n",
    "tosses = toss_coins(n_toss,N1)\n",
    "tosses"
   ]
  },
  {
   "cell_type": "code",
   "execution_count": 4,
   "metadata": {},
   "outputs": [
    {
     "data": {
      "text/plain": [
       "(array([ 0.09291667,  0.19033333,  0.26275   ,  0.194     ,  0.09333333]),\n",
       " array([ 0. ,  1.2,  2.4,  3.6,  4.8,  6. ]),\n",
       " <a list of 5 Patch objects>)"
      ]
     },
     "execution_count": 4,
     "metadata": {},
     "output_type": "execute_result"
    },
    {
     "data": {
      "image/png": "[encoded data removed]",
      "text/plain": [
       "<matplotlib.figure.Figure at 0x3bcfac8>"
      ]
     },
     "metadata": {},
     "output_type": "display_data"
    }
   ],
   "source": [
    "plt.hist(tosses, N1, normed=True)"
   ]
  },
  {
   "cell_type": "code",
   "execution_count": 5,
   "metadata": {},
   "outputs": [
    {
     "data": {
      "text/plain": [
       "[<matplotlib.lines.Line2D at 0x9982198>]"
      ]
     },
     "execution_count": 5,
     "metadata": {},
     "output_type": "execute_result"
    },
    {
     "data": {
      "image/png": "[encoded data removed]",
      "text/plain": [
       "<matplotlib.figure.Figure at 0x96ce2b0>"
      ]
     },
     "metadata": {},
     "output_type": "display_data"
    }
   ],
   "source": [
    "# 2. plot the histogram of sample and pdf of a Gaussian.\n",
    "\n",
    "def plot_tosses(tosses,N1):\n",
    "    \n",
    "    p = 0.5\n",
    "    #var_uniform = 1./12\n",
    "    \n",
    "    mean_binom = p * (N1+1) # unbiased mean of Binomial distribution\n",
    "    var_binom = N1 * p * (1-p) # variance of binomial distribution\n",
    "    \n",
    "    plt.hist(tosses, N1, normed=True)\n",
    "    dist_asympt = norm(mean_binom,var_binom)\n",
    "    x = np.linspace(0,N1+1)\n",
    "    return plt.plot(x,dist_asympt.pdf(x))\n",
    "\n",
    "plot_tosses(tosses,N1)"
   ]
  },
  {
   "cell_type": "code",
   "execution_count": 6,
   "metadata": {},
   "outputs": [
    {
     "data": {
      "text/plain": [
       "[<matplotlib.lines.Line2D at 0x9bb9f98>]"
      ]
     },
     "execution_count": 6,
     "metadata": {},
     "output_type": "execute_result"
    },
    {
     "data": {
      "image/png": "[encoded data removed]",
      "text/plain": [
       "<matplotlib.figure.Figure at 0x97ff080>"
      ]
     },
     "metadata": {},
     "output_type": "display_data"
    }
   ],
   "source": [
    "# 3. repeat the same procedure with n = 10, 100.\n",
    "\n",
    "N1 = 10\n",
    "tosses = toss_coins(n_toss,N1)\n",
    "plot_tosses(tosses,N1)"
   ]
  },
  {
   "cell_type": "code",
   "execution_count": 7,
   "metadata": {},
   "outputs": [
    {
     "data": {
      "text/plain": [
       "[<matplotlib.lines.Line2D at 0x9f16c88>]"
      ]
     },
     "execution_count": 7,
     "metadata": {},
     "output_type": "execute_result"
    },
    {
     "data": {
      "image/png": "[encoded data removed]",
      "text/plain": [
       "<matplotlib.figure.Figure at 0x97ff7f0>"
      ]
     },
     "metadata": {},
     "output_type": "display_data"
    }
   ],
   "source": [
    "N1 = 100\n",
    "tosses = toss_coins(n_toss,N1)\n",
    "plot_tosses(tosses,N1)"
   ]
  },
  {
   "cell_type": "markdown",
   "metadata": {},
   "source": [
    "### Exercise 2"
   ]
  },
  {
   "cell_type": "markdown",
   "metadata": {},
   "source": [
    "The average height of adult male in Russia is 177.2 cm with standard deviation 7.42.\n",
    "We suppose that the distribution of the height is Gaussain.\n",
    "Imagine that we take samples of 100 men and measure their height. What will be the distribution of the means for these samples?\n",
    "\n",
    "\n",
    "Depict the original distribution.\n",
    "\n",
    "Make random samples of size 100 from original distribution.\n",
    "Depict the empirical distribution of the sample means and the asymptotical distribution of sample means from CLT."
   ]
  },
  {
   "cell_type": "code",
   "execution_count": 8,
   "metadata": {},
   "outputs": [
    {
     "data": {
      "text/plain": [
       "[<matplotlib.lines.Line2D at 0xa4bb978>]"
      ]
     },
     "execution_count": 8,
     "metadata": {},
     "output_type": "execute_result"
    },
    {
     "data": {
      "image/png": "[encoded data removed]",
      "text/plain": [
       "<matplotlib.figure.Figure at 0x9dbd080>"
      ]
     },
     "metadata": {},
     "output_type": "display_data"
    }
   ],
   "source": [
    "# 1. Depict the original distribution of male height.\n",
    "\n",
    "h_mean = 177.2\n",
    "h_sigma = 7.42\n",
    "\n",
    "dist = norm(h_mean,h_sigma)\n",
    "x = np.linspace(h_mean-h_sigma*5,h_mean+h_sigma*5)\n",
    "plt.plot(x,dist.pdf(x))"
   ]
  },
  {
   "cell_type": "code",
   "execution_count": 9,
   "metadata": {},
   "outputs": [],
   "source": [
    "# 2. Make random samples of size 100\n",
    "\n",
    "sample_size = 100\n",
    "samples = np.zeros(10000)\n",
    "for i in xrange(10000):\n",
    "    sample = np.zeros(sample_size)\n",
    "    for j in xrange(sample_size):\n",
    "        sample[j] = np.random.normal(h_mean,h_sigma)\n",
    "    samples[i] = np.mean(sample)"
   ]
  },
  {
   "cell_type": "code",
   "execution_count": 10,
   "metadata": {},
   "outputs": [
    {
     "data": {
      "text/plain": [
       "[<matplotlib.lines.Line2D at 0xa4d4710>]"
      ]
     },
     "execution_count": 10,
     "metadata": {},
     "output_type": "execute_result"
    },
    {
     "data": {
      "image/png": "[encoded data removed]",
      "text/plain": [
       "<matplotlib.figure.Figure at 0xa273748>"
      ]
     },
     "metadata": {},
     "output_type": "display_data"
    }
   ],
   "source": [
    "# 3. Depict the empirical distribution of the sample means and \n",
    "# the asymptotical distribution of sample means from CLT\n",
    "\n",
    "plt.hist(samples, 100, normed=True)\n",
    "x = np.linspace(h_mean-h_sigma*0.5,h_mean+h_sigma*0.5)\n",
    "dist_asympt = norm(h_mean,(h_sigma**2)/sample_size)\n",
    "plt.plot(x,dist_asympt.pdf(x))"
   ]
  },
  {
   "cell_type": "markdown",
   "metadata": {},
   "source": [
    "## Multiple comparison problem\n",
    "\n"
   ]
  },
  {
   "cell_type": "markdown",
   "metadata": {},
   "source": [
    "When many correlation coefficients are calculated from a given set of data, the risk of obtaining significant results by chance is increased.\n",
    "\n",
    "There are several algorithms to deal with this problem.\n",
    "Let's say we fix our level of type I error to $\\alpha$.\n",
    "\n",
    "**Bonferroni**\n",
    "\n",
    "Bonferroni method simply reduces $\\alpha$ level to $\\frac{\\alpha}{k}$ where $k$ - the number of comparisons.\n",
    "\n",
    "It is very conservative though quite popular for its simplicity.\n",
    "\n",
    "\n",
    "**Holm**\n",
    "\n",
    "For Holm correction you should sort p-values in ascending order and find the smallest one that satisfies: $p>\\frac{\\alpha}{k+1−i}$, where $i$ is the index in sorted array. \n",
    "\n",
    "This p-value and the ones that are larger are considered insignificant.\n",
    "\n",
    "**Benjamini-Hochberg**\n",
    "\n",
    "In ordered array of p-values find the largest one that satisfies: $p≤\\frac{i}{k}\\alpha$. Then this p-value and all smaller ones are considered significant.\n",
    "\n",
    "The first two procedures control *Family Wise Error Rate* (FWER) i.e. the probability of making at least 1 error of type I. Both Bonferroni and Holm guarantee that the FWER will be not more than given level $\\alpha$.\n",
    "\n",
    "While the last method works with *False Discovery Rate* (FDR) controling the expected number of type I errors. It is then less conservative. Benjamini-Hochberg guarantees that the expected proportion of false discoveries (type I errors) over all discoveries (rejected null hypothesis) is not greater then given $\\alpha$."
   ]
  },
  {
   "cell_type": "markdown",
   "metadata": {},
   "source": [
    "### Exercise 3\n",
    "*Description*\n",
    "\n",
    "There is a hypothesis that some genes are responsible for human body height. \n",
    "\n",
    "Full genome sequencing was performed for 2535 people from different countries i.e. the full sequence of DNA was obtained. The DNA sequence is encoded in 4 letters corresponding to different nucleotides ('A','C','G','T').\n",
    "\n",
    "SNP (Single Nucleotide Polymorphism) is a position in genome where variation of 1 nucleotide exists in population.\n",
    "For example, most of the people can have nucleotide 'A' in this position, while some others have nucleotide 'C'.\n",
    "\n",
    "You are given the data of 5 SNP's. The data is encoded in *0,1,2*. *0* corresponds to most popular variation, *2* - less popular, *1* - is the mix of both variations (remember, we inherit 2 variants from both parents).\n",
    "\n",
    "\n",
    "*Task*\n",
    "\n",
    "1. Read the data from 'data/snp.csv' file. \n",
    "\n",
    "1. Perform the 1-way ANOVA test to check whether the means of 'Height' differ in groups.\n",
    "Get the p-value for each SNP.\n",
    "\n",
    "1. Perform the correction of the multiple comparison using any method (any library).\n",
    "\n",
    "1. Make a conclusion about which SNP are connected with the human height and which are not."
   ]
  },
  {
   "cell_type": "code",
   "execution_count": 11,
   "metadata": {},
   "outputs": [
    {
     "data": {
      "text/html": [
       "<div>\n",
       "<style>\n",
       "    .dataframe thead tr:only-child th {\n",
       "        text-align: right;\n",
       "    }\n",
       "\n",
       "    .dataframe thead th {\n",
       "        text-align: left;\n",
       "    }\n",
       "\n",
       "    .dataframe tbody tr th {\n",
       "        vertical-align: top;\n",
       "    }\n",
       "</style>\n",
       "<table border=\"1\" class=\"dataframe\">\n",
       "  <thead>\n",
       "    <tr style=\"text-align: right;\">\n",
       "      <th></th>\n",
       "      <th>ID</th>\n",
       "      <th>rs16966703</th>\n",
       "      <th>rs10816533</th>\n",
       "      <th>rs7859940</th>\n",
       "      <th>rs2793701</th>\n",
       "      <th>rs7606245</th>\n",
       "      <th>Height</th>\n",
       "    </tr>\n",
       "  </thead>\n",
       "  <tbody>\n",
       "    <tr>\n",
       "      <th>0</th>\n",
       "      <td>HG01914</td>\n",
       "      <td>1</td>\n",
       "      <td>0</td>\n",
       "      <td>2</td>\n",
       "      <td>0</td>\n",
       "      <td>1</td>\n",
       "      <td>184.38</td>\n",
       "    </tr>\n",
       "    <tr>\n",
       "      <th>1</th>\n",
       "      <td>HG01985</td>\n",
       "      <td>0</td>\n",
       "      <td>1</td>\n",
       "      <td>1</td>\n",
       "      <td>1</td>\n",
       "      <td>1</td>\n",
       "      <td>174.55</td>\n",
       "    </tr>\n",
       "    <tr>\n",
       "      <th>2</th>\n",
       "      <td>HG01986</td>\n",
       "      <td>1</td>\n",
       "      <td>2</td>\n",
       "      <td>2</td>\n",
       "      <td>0</td>\n",
       "      <td>1</td>\n",
       "      <td>175.20</td>\n",
       "    </tr>\n",
       "    <tr>\n",
       "      <th>3</th>\n",
       "      <td>HG02013</td>\n",
       "      <td>1</td>\n",
       "      <td>1</td>\n",
       "      <td>2</td>\n",
       "      <td>1</td>\n",
       "      <td>1</td>\n",
       "      <td>167.59</td>\n",
       "    </tr>\n",
       "    <tr>\n",
       "      <th>4</th>\n",
       "      <td>HG02051</td>\n",
       "      <td>0</td>\n",
       "      <td>0</td>\n",
       "      <td>2</td>\n",
       "      <td>0</td>\n",
       "      <td>0</td>\n",
       "      <td>182.53</td>\n",
       "    </tr>\n",
       "    <tr>\n",
       "      <th>5</th>\n",
       "      <td>HG01879</td>\n",
       "      <td>1</td>\n",
       "      <td>1</td>\n",
       "      <td>1</td>\n",
       "      <td>2</td>\n",
       "      <td>1</td>\n",
       "      <td>189.24</td>\n",
       "    </tr>\n",
       "    <tr>\n",
       "      <th>6</th>\n",
       "      <td>HG01880</td>\n",
       "      <td>0</td>\n",
       "      <td>2</td>\n",
       "      <td>2</td>\n",
       "      <td>0</td>\n",
       "      <td>1</td>\n",
       "      <td>161.01</td>\n",
       "    </tr>\n",
       "    <tr>\n",
       "      <th>7</th>\n",
       "      <td>HG01896</td>\n",
       "      <td>1</td>\n",
       "      <td>1</td>\n",
       "      <td>1</td>\n",
       "      <td>1</td>\n",
       "      <td>1</td>\n",
       "      <td>169.16</td>\n",
       "    </tr>\n",
       "    <tr>\n",
       "      <th>8</th>\n",
       "      <td>HG01915</td>\n",
       "      <td>0</td>\n",
       "      <td>0</td>\n",
       "      <td>2</td>\n",
       "      <td>1</td>\n",
       "      <td>0</td>\n",
       "      <td>180.84</td>\n",
       "    </tr>\n",
       "    <tr>\n",
       "      <th>9</th>\n",
       "      <td>HG01958</td>\n",
       "      <td>0</td>\n",
       "      <td>1</td>\n",
       "      <td>2</td>\n",
       "      <td>0</td>\n",
       "      <td>0</td>\n",
       "      <td>179.29</td>\n",
       "    </tr>\n",
       "  </tbody>\n",
       "</table>\n",
       "</div>"
      ],
      "text/plain": [
       "        ID  rs16966703  rs10816533  rs7859940  rs2793701  rs7606245  Height\n",
       "0  HG01914           1           0          2          0          1  184.38\n",
       "1  HG01985           0           1          1          1          1  174.55\n",
       "2  HG01986           1           2          2          0          1  175.20\n",
       "3  HG02013           1           1          2          1          1  167.59\n",
       "4  HG02051           0           0          2          0          0  182.53\n",
       "5  HG01879           1           1          1          2          1  189.24\n",
       "6  HG01880           0           2          2          0          1  161.01\n",
       "7  HG01896           1           1          1          1          1  169.16\n",
       "8  HG01915           0           0          2          1          0  180.84\n",
       "9  HG01958           0           1          2          0          0  179.29"
      ]
     },
     "execution_count": 11,
     "metadata": {},
     "output_type": "execute_result"
    }
   ],
   "source": [
    "features = ['rs7859940', 'rs10816533', 'rs16966703', 'rs2793701', 'rs7606245']\n",
    "\n",
    "# 1.\n",
    "\n",
    "import pandas as pd\n",
    "from scipy.stats import f_oneway\n",
    "data = pd.read_csv('data/snp.csv')\n",
    "data.head(10)"
   ]
  },
  {
   "cell_type": "code",
   "execution_count": 12,
   "metadata": {},
   "outputs": [
    {
     "data": {
      "text/html": [
       "<div>\n",
       "<style>\n",
       "    .dataframe thead tr:only-child th {\n",
       "        text-align: right;\n",
       "    }\n",
       "\n",
       "    .dataframe thead th {\n",
       "        text-align: left;\n",
       "    }\n",
       "\n",
       "    .dataframe tbody tr th {\n",
       "        vertical-align: top;\n",
       "    }\n",
       "</style>\n",
       "<table border=\"1\" class=\"dataframe\">\n",
       "  <thead>\n",
       "    <tr>\n",
       "      <th></th>\n",
       "      <th colspan=\"8\" halign=\"left\">Height</th>\n",
       "    </tr>\n",
       "    <tr>\n",
       "      <th></th>\n",
       "      <th>count</th>\n",
       "      <th>mean</th>\n",
       "      <th>std</th>\n",
       "      <th>min</th>\n",
       "      <th>25%</th>\n",
       "      <th>50%</th>\n",
       "      <th>75%</th>\n",
       "      <th>max</th>\n",
       "    </tr>\n",
       "    <tr>\n",
       "      <th>rs7859940</th>\n",
       "      <th></th>\n",
       "      <th></th>\n",
       "      <th></th>\n",
       "      <th></th>\n",
       "      <th></th>\n",
       "      <th></th>\n",
       "      <th></th>\n",
       "      <th></th>\n",
       "    </tr>\n",
       "  </thead>\n",
       "  <tbody>\n",
       "    <tr>\n",
       "      <th>0</th>\n",
       "      <td>1454.0</td>\n",
       "      <td>178.282476</td>\n",
       "      <td>6.987214</td>\n",
       "      <td>156.35</td>\n",
       "      <td>173.4825</td>\n",
       "      <td>178.615</td>\n",
       "      <td>183.1925</td>\n",
       "      <td>198.01</td>\n",
       "    </tr>\n",
       "    <tr>\n",
       "      <th>1</th>\n",
       "      <td>688.0</td>\n",
       "      <td>177.342355</td>\n",
       "      <td>7.163876</td>\n",
       "      <td>154.77</td>\n",
       "      <td>172.6575</td>\n",
       "      <td>177.070</td>\n",
       "      <td>182.3525</td>\n",
       "      <td>201.14</td>\n",
       "    </tr>\n",
       "    <tr>\n",
       "      <th>2</th>\n",
       "      <td>393.0</td>\n",
       "      <td>175.762010</td>\n",
       "      <td>7.977446</td>\n",
       "      <td>150.62</td>\n",
       "      <td>170.1600</td>\n",
       "      <td>175.540</td>\n",
       "      <td>181.6300</td>\n",
       "      <td>195.61</td>\n",
       "    </tr>\n",
       "  </tbody>\n",
       "</table>\n",
       "</div>"
      ],
      "text/plain": [
       "           Height                                                             \\\n",
       "            count        mean       std     min       25%      50%       75%   \n",
       "rs7859940                                                                      \n",
       "0          1454.0  178.282476  6.987214  156.35  173.4825  178.615  183.1925   \n",
       "1           688.0  177.342355  7.163876  154.77  172.6575  177.070  182.3525   \n",
       "2           393.0  175.762010  7.977446  150.62  170.1600  175.540  181.6300   \n",
       "\n",
       "                   \n",
       "              max  \n",
       "rs7859940          \n",
       "0          198.01  \n",
       "1          201.14  \n",
       "2          195.61  "
      ]
     },
     "execution_count": 12,
     "metadata": {},
     "output_type": "execute_result"
    }
   ],
   "source": [
    "# 2.\n",
    "\n",
    "data[[features[0],'Height']].groupby(features[0]).describe()"
   ]
  },
  {
   "cell_type": "code",
   "execution_count": 13,
   "metadata": {},
   "outputs": [
    {
     "data": {
      "text/plain": [
       "array([[ 178.28247593],\n",
       "       [ 177.34235465],\n",
       "       [ 175.76201018]])"
      ]
     },
     "execution_count": 13,
     "metadata": {},
     "output_type": "execute_result"
    }
   ],
   "source": [
    "means_0 = data[[features[0],'Height']].groupby(features[0]).mean()\n",
    "means_0 = np.asarray(means_0)\n",
    "means_0"
   ]
  },
  {
   "cell_type": "code",
   "execution_count": 14,
   "metadata": {},
   "outputs": [
    {
     "name": "stdout",
     "output_type": "stream",
     "text": [
      "rs10816533 : F_onewayResult(statistic=45.956514264339994, pvalue=2.4834761942133547e-20)\n",
      "rs16966703 : F_onewayResult(statistic=3.8445572741860583, pvalue=0.021520882468864029)\n",
      "rs7606245 : F_onewayResult(statistic=0.62111456229988793, pvalue=0.537427050042668)\n",
      "rs7859940 : F_onewayResult(statistic=19.762542025052937, pvalue=3.0446500741105462e-09)\n",
      "rs2793701 : F_onewayResult(statistic=3.6240967639584509, pvalue=0.026811633284934088)\n"
     ]
    }
   ],
   "source": [
    "a = dict.fromkeys(features)\n",
    "for key in a.keys():\n",
    "    a[key] = (f_oneway(data[data[key]==data[key].unique()[0]]['Height'],\n",
    "                       data[data[key]==data[key].unique()[1]]['Height'],\n",
    "                       data[data[key]==data[key].unique()[2]]['Height']))\n",
    "    print key,':',a[key]"
   ]
  },
  {
   "cell_type": "code",
   "execution_count": 15,
   "metadata": {},
   "outputs": [
    {
     "name": "stdout",
     "output_type": "stream",
     "text": [
      "[2.4834761942133547e-20, 0.021520882468864029, 0.537427050042668, 3.0446500741105462e-09, 0.026811633284934088]\n"
     ]
    },
    {
     "data": {
      "text/plain": [
       "(array([ True, False, False,  True, False], dtype=bool),\n",
       " array([  1.24173810e-19,   1.07604412e-01,   1.00000000e+00,\n",
       "          1.52232504e-08,   1.34058166e-01]),\n",
       " 0.010206218313011495,\n",
       " 0.01)"
      ]
     },
     "execution_count": 15,
     "metadata": {},
     "output_type": "execute_result"
    }
   ],
   "source": [
    "# 3.\n",
    "\n",
    "from statsmodels.sandbox.stats.multicomp import multipletests\n",
    "\n",
    "c = []\n",
    "for key in a.keys():\n",
    "    c.append(a[key][1])\n",
    "print c\n",
    "p_corr = multipletests(c, method='bonferroni')\n",
    "p_corr"
   ]
  },
  {
   "cell_type": "code",
   "execution_count": 16,
   "metadata": {
    "collapsed": true
   },
   "outputs": [],
   "source": [
    "# 4.\n",
    "\n",
    "# SNPs rs10816533 and rs7859940 are connected with the human height and others are not\n",
    "# (according to 1-way ANOVA and Bonferroni correction)"
   ]
  }
 ],
 "metadata": {
  "kernelspec": {
   "display_name": "Python 2",
   "language": "python",
   "name": "python2"
  },
  "language_info": {
   "codemirror_mode": {
    "name": "ipython",
    "version": 2
   },
   "file_extension": ".py",
   "mimetype": "text/x-python",
   "name": "python",
   "nbconvert_exporter": "python",
   "pygments_lexer": "ipython2",
   "version": "2.7.13"
  }
 },
 "nbformat": 4,
 "nbformat_minor": 2
}
