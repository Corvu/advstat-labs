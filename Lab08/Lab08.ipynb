{
 "cells": [
  {
   "cell_type": "markdown",
   "metadata": {},
   "source": [
    "# Lab08 - Bootstrap"
   ]
  },
  {
   "cell_type": "markdown",
   "metadata": {},
   "source": [
    "GitHub: https://github.com/Corvu/advstat-labs/tree/master/Lab08"
   ]
  },
  {
   "cell_type": "markdown",
   "metadata": {},
   "source": [
    "## Assignment 1\n",
    "\n",
    "The first dataset contains assessments of 40 objects. The first column is \"id\". Attributes $p_1 \\dots p_{27}$ are predictors, attributes $y_1 \\dots y_5$ are target labels.\n",
    "\n",
    "For each target label $y_i$ (using Bootstrap) estimate mean, median, and find an error of estimation.\n",
    "\n",
    "For each target label $y_i$ estimate a linear model for better prediction of $y_i$. Then (using Bootstrap) find the 95%-confidence intervals for each coefficient of each model including an intercept."
   ]
  },
  {
   "cell_type": "markdown",
   "metadata": {},
   "source": [
    "**First, let's calculate parameters using Bootstrap procedure**"
   ]
  },
  {
   "cell_type": "code",
   "execution_count": 1,
   "metadata": {
    "collapsed": true
   },
   "outputs": [],
   "source": [
    "import matplotlib.pyplot as plt\n",
    "import numpy as np\n",
    "import pandas as pd\n",
    "import scipy\n",
    "from sklearn import linear_model\n",
    "from tqdm import * # for progress bar\n",
    "\n",
    "%matplotlib inline"
   ]
  },
  {
   "cell_type": "code",
   "execution_count": 2,
   "metadata": {
    "collapsed": true
   },
   "outputs": [],
   "source": [
    "# Hyperparameters\n",
    "# Amount of Boostrap samples\n",
    "b_samples = 1000"
   ]
  },
  {
   "cell_type": "code",
   "execution_count": 3,
   "metadata": {},
   "outputs": [
    {
     "name": "stdout",
     "output_type": "stream",
     "text": [
      "Dataset shape: (40, 34)\n"
     ]
    },
    {
     "data": {
      "text/html": [
       "<div>\n",
       "<style>\n",
       "    .dataframe thead tr:only-child th {\n",
       "        text-align: right;\n",
       "    }\n",
       "\n",
       "    .dataframe thead th {\n",
       "        text-align: left;\n",
       "    }\n",
       "\n",
       "    .dataframe tbody tr th {\n",
       "        vertical-align: top;\n",
       "    }\n",
       "</style>\n",
       "<table border=\"1\" class=\"dataframe\">\n",
       "  <thead>\n",
       "    <tr style=\"text-align: right;\">\n",
       "      <th></th>\n",
       "      <th>id</th>\n",
       "      <th>p1</th>\n",
       "      <th>p2</th>\n",
       "      <th>p3</th>\n",
       "      <th>p4</th>\n",
       "      <th>p5</th>\n",
       "      <th>p6</th>\n",
       "      <th>p7</th>\n",
       "      <th>p8</th>\n",
       "      <th>p9</th>\n",
       "      <th>...</th>\n",
       "      <th>p24</th>\n",
       "      <th>p25</th>\n",
       "      <th>p26</th>\n",
       "      <th>p27</th>\n",
       "      <th>p28</th>\n",
       "      <th>y1</th>\n",
       "      <th>y2</th>\n",
       "      <th>y3</th>\n",
       "      <th>y4</th>\n",
       "      <th>y5</th>\n",
       "    </tr>\n",
       "  </thead>\n",
       "  <tbody>\n",
       "    <tr>\n",
       "      <th>0</th>\n",
       "      <td>11</td>\n",
       "      <td>6.48148</td>\n",
       "      <td>3.0</td>\n",
       "      <td>5.0</td>\n",
       "      <td>7.75000</td>\n",
       "      <td>0.0</td>\n",
       "      <td>7.16667</td>\n",
       "      <td>8.16667</td>\n",
       "      <td>9.66667</td>\n",
       "      <td>6.16667</td>\n",
       "      <td>...</td>\n",
       "      <td>1.66667</td>\n",
       "      <td>3.16667</td>\n",
       "      <td>0.0</td>\n",
       "      <td>0.00000</td>\n",
       "      <td>0.0</td>\n",
       "      <td>1.0</td>\n",
       "      <td>5.00</td>\n",
       "      <td>7.44</td>\n",
       "      <td>1.18</td>\n",
       "      <td>4.38</td>\n",
       "    </tr>\n",
       "    <tr>\n",
       "      <th>1</th>\n",
       "      <td>12</td>\n",
       "      <td>5.74074</td>\n",
       "      <td>4.0</td>\n",
       "      <td>8.0</td>\n",
       "      <td>7.33333</td>\n",
       "      <td>8.0</td>\n",
       "      <td>8.83333</td>\n",
       "      <td>9.75000</td>\n",
       "      <td>9.66667</td>\n",
       "      <td>9.00000</td>\n",
       "      <td>...</td>\n",
       "      <td>2.50000</td>\n",
       "      <td>5.50000</td>\n",
       "      <td>5.0</td>\n",
       "      <td>8.66667</td>\n",
       "      <td>8.0</td>\n",
       "      <td>4.5</td>\n",
       "      <td>4.25</td>\n",
       "      <td>8.93</td>\n",
       "      <td>2.00</td>\n",
       "      <td>6.03</td>\n",
       "    </tr>\n",
       "    <tr>\n",
       "      <th>2</th>\n",
       "      <td>25</td>\n",
       "      <td>7.59259</td>\n",
       "      <td>7.0</td>\n",
       "      <td>8.0</td>\n",
       "      <td>7.66667</td>\n",
       "      <td>8.0</td>\n",
       "      <td>9.66667</td>\n",
       "      <td>9.50000</td>\n",
       "      <td>6.16667</td>\n",
       "      <td>9.66667</td>\n",
       "      <td>...</td>\n",
       "      <td>3.50000</td>\n",
       "      <td>3.50000</td>\n",
       "      <td>9.0</td>\n",
       "      <td>6.50000</td>\n",
       "      <td>7.0</td>\n",
       "      <td>7.5</td>\n",
       "      <td>11.00</td>\n",
       "      <td>8.97</td>\n",
       "      <td>2.00</td>\n",
       "      <td>9.12</td>\n",
       "    </tr>\n",
       "    <tr>\n",
       "      <th>3</th>\n",
       "      <td>31</td>\n",
       "      <td>5.96297</td>\n",
       "      <td>4.0</td>\n",
       "      <td>8.0</td>\n",
       "      <td>9.33333</td>\n",
       "      <td>10.0</td>\n",
       "      <td>9.33333</td>\n",
       "      <td>7.00000</td>\n",
       "      <td>8.50000</td>\n",
       "      <td>9.66667</td>\n",
       "      <td>...</td>\n",
       "      <td>0.00000</td>\n",
       "      <td>0.00000</td>\n",
       "      <td>0.0</td>\n",
       "      <td>0.00000</td>\n",
       "      <td>0.0</td>\n",
       "      <td>4.0</td>\n",
       "      <td>6.25</td>\n",
       "      <td>8.93</td>\n",
       "      <td>1.82</td>\n",
       "      <td>6.41</td>\n",
       "    </tr>\n",
       "    <tr>\n",
       "      <th>4</th>\n",
       "      <td>48</td>\n",
       "      <td>5.44444</td>\n",
       "      <td>1.0</td>\n",
       "      <td>3.5</td>\n",
       "      <td>6.41667</td>\n",
       "      <td>9.0</td>\n",
       "      <td>8.50000</td>\n",
       "      <td>7.08333</td>\n",
       "      <td>6.33333</td>\n",
       "      <td>9.00000</td>\n",
       "      <td>...</td>\n",
       "      <td>0.00000</td>\n",
       "      <td>0.00000</td>\n",
       "      <td>0.0</td>\n",
       "      <td>0.00000</td>\n",
       "      <td>0.0</td>\n",
       "      <td>0.0</td>\n",
       "      <td>3.00</td>\n",
       "      <td>8.08</td>\n",
       "      <td>1.36</td>\n",
       "      <td>3.67</td>\n",
       "    </tr>\n",
       "  </tbody>\n",
       "</table>\n",
       "<p>5 rows × 34 columns</p>\n",
       "</div>"
      ],
      "text/plain": [
       "   id       p1   p2   p3       p4    p5       p6       p7       p8       p9  \\\n",
       "0  11  6.48148  3.0  5.0  7.75000   0.0  7.16667  8.16667  9.66667  6.16667   \n",
       "1  12  5.74074  4.0  8.0  7.33333   8.0  8.83333  9.75000  9.66667  9.00000   \n",
       "2  25  7.59259  7.0  8.0  7.66667   8.0  9.66667  9.50000  6.16667  9.66667   \n",
       "3  31  5.96297  4.0  8.0  9.33333  10.0  9.33333  7.00000  8.50000  9.66667   \n",
       "4  48  5.44444  1.0  3.5  6.41667   9.0  8.50000  7.08333  6.33333  9.00000   \n",
       "\n",
       "   ...       p24      p25  p26      p27  p28   y1     y2    y3    y4    y5  \n",
       "0  ...   1.66667  3.16667  0.0  0.00000  0.0  1.0   5.00  7.44  1.18  4.38  \n",
       "1  ...   2.50000  5.50000  5.0  8.66667  8.0  4.5   4.25  8.93  2.00  6.03  \n",
       "2  ...   3.50000  3.50000  9.0  6.50000  7.0  7.5  11.00  8.97  2.00  9.12  \n",
       "3  ...   0.00000  0.00000  0.0  0.00000  0.0  4.0   6.25  8.93  1.82  6.41  \n",
       "4  ...   0.00000  0.00000  0.0  0.00000  0.0  0.0   3.00  8.08  1.36  3.67  \n",
       "\n",
       "[5 rows x 34 columns]"
      ]
     },
     "execution_count": 3,
     "metadata": {},
     "output_type": "execute_result"
    }
   ],
   "source": [
    "# Read dataset\n",
    "filename1 = \"ds-boot-2.csv\"\n",
    "dataset1 = pd.read_csv(filename1, sep='\\t')\n",
    "print(\"Dataset shape:\", dataset1.shape)\n",
    "dataset1.head()"
   ]
  },
  {
   "cell_type": "code",
   "execution_count": 4,
   "metadata": {},
   "outputs": [
    {
     "data": {
      "text/plain": [
       "array([  0. ,   1. ,   2. ,   3. ,   4. ,   4.5,   6. ,   6.5,   7. ,\n",
       "         7.5,   9. ,  10. ])"
      ]
     },
     "execution_count": 4,
     "metadata": {},
     "output_type": "execute_result"
    }
   ],
   "source": [
    "# For each y estimate mean, median, and find an error of estimation\n",
    "N = dataset1.shape[0]\n",
    "y = np.zeros([5, N])\n",
    "\n",
    "# Get index of y1 column\n",
    "y1_col = dataset1.columns.get_loc(\"y1\")\n",
    "\n",
    "# Show unique values of measures of y1 column\n",
    "np.unique(dataset1.iloc[:,y1_col])"
   ]
  },
  {
   "cell_type": "code",
   "execution_count": 5,
   "metadata": {},
   "outputs": [
    {
     "data": {
      "text/plain": [
       "array([ 0. ,  3. ,  0. ,  7. ,  0. ,  0. ,  0. ,  0. ,  7.5,  4. ,  2. ,\n",
       "        7. ,  2. ,  7.5,  4. ,  3. ,  7. ,  0. ,  7. ,  4. ,  7. ,  6.5,\n",
       "        3. ,  2. ,  0. ,  4. ,  4. ,  4. ,  6.5,  7.5,  6. ,  0. ,  0. ,\n",
       "        0. ,  4. ,  4. ,  4. ,  4. ,  6. ,  0. ])"
      ]
     },
     "execution_count": 5,
     "metadata": {},
     "output_type": "execute_result"
    }
   ],
   "source": [
    "# Walk through each y column\n",
    "for i in range(5):\n",
    "    y[i,:] = dataset1.iloc[:, y1_col+i]\n",
    "\n",
    "# Make Bootstrap samples\n",
    "y_bootstrap = np.zeros([5, b_samples, N])\n",
    "for i in range(5):\n",
    "    for s in range(b_samples):\n",
    "        y_bootstrap[i, s, :] = np.random.choice(y[i, :], size=N)\n",
    "\n",
    "# Show as example one of the Bootstrap samples of y1\n",
    "y_bootstrap[0, 1]"
   ]
  },
  {
   "cell_type": "code",
   "execution_count": 6,
   "metadata": {},
   "outputs": [
    {
     "name": "stdout",
     "output_type": "stream",
     "text": [
      "Original means: [ 4.025    5.50625  7.306    1.5275   5.63475]\n",
      "Original medians: [ 4.     6.25   8.215  1.865  6.225]\n"
     ]
    }
   ],
   "source": [
    "# Calculate statistics for original samples\n",
    "means_orig = np.zeros(5)\n",
    "medians_orig = np.zeros(5)\n",
    "for i in range(5):\n",
    "    means_orig[i] = np.mean(y[i,:])\n",
    "    medians_orig[i] = np.median(y[i,:])\n",
    "print(\"Original means:\", means_orig)\n",
    "print(\"Original medians:\", medians_orig)"
   ]
  },
  {
   "cell_type": "code",
   "execution_count": 7,
   "metadata": {
    "collapsed": true
   },
   "outputs": [],
   "source": [
    "# Define function for calculation of statistics for Bootstrap samples\n",
    "def calc_stat(arr, stat, b_samples):\n",
    "    '''\n",
    "    Calculates Bootstrap statistics\n",
    "    arr - array of shape [5, b_samples, N_values]\n",
    "    stat - chosen statistic\n",
    "    '''\n",
    "    stats_bt = np.zeros(5)\n",
    "    for i in range(5):\n",
    "        stat_bt_samples = np.zeros(b_samples)\n",
    "        for s in range(b_samples):\n",
    "            stat_bt_samples[s] = stat(arr[i, s, :])\n",
    "        stats_bt[i] = stat_bt_samples.mean()\n",
    "    return stats_bt"
   ]
  },
  {
   "cell_type": "code",
   "execution_count": 8,
   "metadata": {},
   "outputs": [
    {
     "name": "stdout",
     "output_type": "stream",
     "text": [
      "Bootstrap means:\n",
      " [ 4.060575    5.50789375  7.284715    1.53084     5.633537  ]\n",
      "Bootstrap medians:\n",
      " [ 4.0505    6.1515    8.299305  1.858535  6.172615]\n"
     ]
    }
   ],
   "source": [
    "# Calculate Bootstrap means\n",
    "means_bt = calc_stat(y_bootstrap, np.mean, b_samples)\n",
    "\n",
    "# Calculate Boostrap medians\n",
    "medians_bt = calc_stat(y_bootstrap, np.median, b_samples)\n",
    "\n",
    "print(\"Bootstrap means:\\n\", means_bt)\n",
    "print(\"Bootstrap medians:\\n\", medians_bt)"
   ]
  },
  {
   "cell_type": "code",
   "execution_count": 9,
   "metadata": {},
   "outputs": [
    {
     "name": "stdout",
     "output_type": "stream",
     "text": [
      "y1\t mean_err: -0.0356 ,\tmedian_err: -0.0505\n",
      "y2\t mean_err: -0.0016 ,\tmedian_err: 0.0985\n",
      "y3\t mean_err: 0.0213 ,\tmedian_err: -0.0843\n",
      "y4\t mean_err: -0.0033 ,\tmedian_err: 0.0065\n",
      "y5\t mean_err: 0.0012 ,\tmedian_err: 0.0524\n"
     ]
    }
   ],
   "source": [
    "# Calculate errors between original and Bootstrap parameters\n",
    "diff_means = np.round(means_orig - means_bt, decimals=4)\n",
    "diff_medians = np.round(medians_orig - medians_bt, decimals=4)\n",
    "for i in range(5):\n",
    "    print(\"y\" + str(i+1) + \"\\t\", \"mean_err:\", diff_means[i], \",\\tmedian_err:\", diff_medians[i])"
   ]
  },
  {
   "cell_type": "markdown",
   "metadata": {},
   "source": [
    "**Now let's estimate a linear model**"
   ]
  },
  {
   "cell_type": "code",
   "execution_count": 10,
   "metadata": {},
   "outputs": [
    {
     "data": {
      "text/plain": [
       "LinearRegression(copy_X=True, fit_intercept=True, n_jobs=1, normalize=False)"
      ]
     },
     "execution_count": 10,
     "metadata": {},
     "output_type": "execute_result"
    }
   ],
   "source": [
    "# Create LR model\n",
    "lr = linear_model.LinearRegression()\n",
    "p1_col = dataset1.columns.get_loc(\"p1\")\n",
    "\n",
    "# Extract features and labels and fit model\n",
    "X = np.asarray(dataset1.iloc[:, p1_col:y1_col])\n",
    "y = np.asarray(dataset1.iloc[:, y1_col:y1_col+5])\n",
    "lr.fit(X, y)"
   ]
  },
  {
   "cell_type": "code",
   "execution_count": 11,
   "metadata": {},
   "outputs": [
    {
     "data": {
      "text/plain": [
       "[<matplotlib.lines.Line2D at 0x1481edd8>]"
      ]
     },
     "execution_count": 11,
     "metadata": {},
     "output_type": "execute_result"
    },
    {
     "data": {
      "image/png": "[encoded data removed]",
      "text/plain": [
       "<matplotlib.figure.Figure at 0x1481ed68>"
      ]
     },
     "metadata": {},
     "output_type": "display_data"
    }
   ],
   "source": [
    "# Predict\n",
    "y_pred = lr.predict(dataset1.iloc[:, p1_col:y1_col])\n",
    "\n",
    "# Plot for p1 and y1\n",
    "y_axis = 3\n",
    "p_feature = 10\n",
    "x_plot = np.asarray(X)[:, p_feature]\n",
    "y_plot = np.asarray(y)[:, y_axis]\n",
    "y_line = [np.min(y_pred[:, y_axis]), np.max(y_pred[:, y_axis])]\n",
    "x_line = [x_plot[np.argmin(y_pred[:, y_axis])], x_plot[np.argmax(y_pred[:, y_axis])]]\n",
    "plt.scatter(x_plot, y_plot)\n",
    "plt.plot(x_line, y_line)"
   ]
  },
  {
   "cell_type": "markdown",
   "metadata": {},
   "source": [
    "**Find a 95% confidence interval using Bootstrap**\n",
    "\n",
    "For this task, the sample is the whole table. Each measurement is a tuple $\\{p_1, \\dots, p_{28}, y_1, \\dots, y_5\\}$. Bootstrap size is kept the same as in the beginning."
   ]
  },
  {
   "cell_type": "code",
   "execution_count": 12,
   "metadata": {},
   "outputs": [
    {
     "name": "stderr",
     "output_type": "stream",
     "text": [
      "100%|██████████████████████████████████████| 1000/1000 [00:18<00:00, 54.28it/s]\n"
     ]
    }
   ],
   "source": [
    "# Bootstrap samples for linear regression\n",
    "# [bootstrap_sample_no, id, column]\n",
    "ds1_bootstrap = np.zeros([b_samples, N, np.shape(dataset1)[1]])\n",
    "for i in tqdm(range(b_samples)):\n",
    "    for j in range(N):\n",
    "        ds1_bootstrap[i, j, :] = np.asarray(dataset1)[np.random.choice(range(N)), :]"
   ]
  },
  {
   "cell_type": "code",
   "execution_count": 13,
   "metadata": {},
   "outputs": [
    {
     "name": "stderr",
     "output_type": "stream",
     "text": [
      "100%|█████████████████████████████████████| 1000/1000 [00:03<00:00, 270.47it/s]\n"
     ]
    }
   ],
   "source": [
    "# Coefficients of linear model for each bootstrap sample\n",
    "coef_lr_bt = np.zeros([b_samples, 5, 28])\n",
    "coef_bias_lr_bt = np.zeros([b_samples, 5])\n",
    "\n",
    "# Fit linear model for each bootstrap sample\n",
    "for i in tqdm(range(b_samples)):\n",
    "    \n",
    "    # Linear Model for the sample\n",
    "    lr_temp = linear_model.LinearRegression()\n",
    "    \n",
    "    # Get parameters and outputs, then fit model\n",
    "    X = np.asarray(ds1_bootstrap[i, :, p1_col:y1_col])\n",
    "    y = np.asarray(ds1_bootstrap[i, :, y1_col:y1_col+5])\n",
    "    lr_temp.fit(X, y)\n",
    "    \n",
    "    # Remember coefficients for current bootstrap sample\n",
    "    coef_lr_bt[i, :, :] = lr_temp.coef_\n",
    "    coef_bias_lr_bt[i, :] = lr_temp.intercept_"
   ]
  },
  {
   "cell_type": "code",
   "execution_count": 14,
   "metadata": {},
   "outputs": [],
   "source": [
    "# Average bootstrapped coefficients\n",
    "coef_lr_avg = np.zeros([5, 28])\n",
    "coef_lr_var = np.zeros([5, 28])\n",
    "coef_bias_lr_avg = np.zeros([5])\n",
    "coef_bias_lr_var = np.zeros([5])\n",
    "for i in range(5):\n",
    "    for j in range(28):\n",
    "        coef_lr_avg[i,j] = np.mean(coef_lr_bt[:,i,j])\n",
    "        coef_lr_var[i,j] = np.var(coef_lr_bt[:,i,j])\n",
    "    coef_bias_lr_avg[i] = np.mean(coef_bias_lr_bt[:,i])\n",
    "    coef_bias_lr_var[i] = np.var(coef_bias_lr_bt[:,i])"
   ]
  },
  {
   "cell_type": "code",
   "execution_count": 15,
   "metadata": {},
   "outputs": [
    {
     "name": "stdout",
     "output_type": "stream",
     "text": [
      "y1\n",
      "\n",
      "coef (p1-p28):\n",
      " [ 0.32079783 -0.02077721 -0.08212598  0.57075245 -0.28266331  0.23686097\n",
      " -0.38507644 -0.05169125 -0.02554684 -0.20306667  0.35594157  0.05013157\n",
      "  0.14055806 -0.02864443 -0.42851199  0.19287954  0.31581054 -0.06035625\n",
      " -0.20275711 -0.15866138  0.34609141 -0.02736123  0.35348779 -0.23196386\n",
      "  0.20042812  0.04632164 -0.02843656 -0.15778781] \n",
      "\n",
      "variance: [ 0.21283075  0.06207486  0.15535996  0.19950271  0.11344806  0.22474498\n",
      "  0.25041369  0.13522784  0.16249522  0.10607955  0.15357864  0.15725627\n",
      "  0.17577281  0.10443539  0.08450289  0.05226348  0.07767236  0.06894717\n",
      "  0.08907134  0.08351547  0.08089775  0.06381611  0.04308923  0.06717008\n",
      "  0.08847981  0.07590783  0.09189008  0.05168163] \n",
      "\n",
      "bias (intercept):\n",
      " -0.00884853208448 \n",
      "\n",
      "variance: 0.078908381112\n"
     ]
    }
   ],
   "source": [
    "# Show coefficients for y_1\n",
    "print(\"y1\\n\\ncoef (p1-p28):\\n\", coef_lr_avg[0,:], \"\\n\\nvariance:\", coef_lr_var[0,:],\n",
    "      \"\\n\\nbias (intercept):\\n\", coef_bias_lr_avg[0], \"\\n\\nvariance:\", coef_bias_lr_var[0])"
   ]
  },
  {
   "cell_type": "markdown",
   "metadata": {},
   "source": [
    "To calculate confidence interval, we assume that the mean of each parameter (including bias) is a normally distributed random variable."
   ]
  },
  {
   "cell_type": "code",
   "execution_count": 16,
   "metadata": {},
   "outputs": [
    {
     "name": "stdout",
     "output_type": "stream",
     "text": [
      "y1; p1 95% confidence interval: 0.306209108074 ~ 0.335386547822\n"
     ]
    }
   ],
   "source": [
    "# Quantiles\n",
    "q_025 = scipy.stats.norm.isf(0.975)\n",
    "q_975 = scipy.stats.norm.isf(0.025)\n",
    "\n",
    "# Confidence intervals\n",
    "y1p1_left = -np.sqrt(coef_lr_var[0,0])/np.sqrt(b_samples) + coef_lr_avg[0,0]\n",
    "y1p1_right = np.sqrt(coef_lr_var[0,0])/np.sqrt(b_samples) + coef_lr_avg[0,0]\n",
    "print(\"y1; p1 95% confidence interval:\", y1p1_left, \"~\", y1p1_right)\n",
    "\n",
    "# The same technique applies for each parameter"
   ]
  }
 ],
 "metadata": {
  "kernelspec": {
   "display_name": "Python 3",
   "language": "python",
   "name": "python3"
  },
  "language_info": {
   "codemirror_mode": {
    "name": "ipython",
    "version": 3
   },
   "file_extension": ".py",
   "mimetype": "text/x-python",
   "name": "python",
   "nbconvert_exporter": "python",
   "pygments_lexer": "ipython3",
   "version": "3.6.3"
  }
 },
 "nbformat": 4,
 "nbformat_minor": 2
}
